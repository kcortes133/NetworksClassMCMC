{
 "cells": [
  {
   "cell_type": "code",
   "execution_count": 6,
   "outputs": [
    {
     "data": {
      "text/plain": "        id                             name  gender\n0        1                    Aage Jakobsen       1\n1        2                 Aage Johan Remøy       1\n2        3  Aage Rasmus Bjelland Figenschou       1\n3        4             Aagot Irene Skjeldal       2\n4        5                   Aase Gundersen       2\n...    ...                              ...     ...\n5762  5763             Yuhong Jin Hermansen       2\n5763  5764                  Yvonne Berntzen       2\n5764  5765                 Yvonne Skramstad       2\n5765  5766                        Zhong Bei       2\n5766  5767                  Zuzana Muranska       2\n\n[5767 rows x 3 columns]",
      "text/html": "<div>\n<style scoped>\n    .dataframe tbody tr th:only-of-type {\n        vertical-align: middle;\n    }\n\n    .dataframe tbody tr th {\n        vertical-align: top;\n    }\n\n    .dataframe thead th {\n        text-align: right;\n    }\n</style>\n<table border=\"1\" class=\"dataframe\">\n  <thead>\n    <tr style=\"text-align: right;\">\n      <th></th>\n      <th>id</th>\n      <th>name</th>\n      <th>gender</th>\n    </tr>\n  </thead>\n  <tbody>\n    <tr>\n      <th>0</th>\n      <td>1</td>\n      <td>Aage Jakobsen</td>\n      <td>1</td>\n    </tr>\n    <tr>\n      <th>1</th>\n      <td>2</td>\n      <td>Aage Johan Remøy</td>\n      <td>1</td>\n    </tr>\n    <tr>\n      <th>2</th>\n      <td>3</td>\n      <td>Aage Rasmus Bjelland Figenschou</td>\n      <td>1</td>\n    </tr>\n    <tr>\n      <th>3</th>\n      <td>4</td>\n      <td>Aagot Irene Skjeldal</td>\n      <td>2</td>\n    </tr>\n    <tr>\n      <th>4</th>\n      <td>5</td>\n      <td>Aase Gundersen</td>\n      <td>2</td>\n    </tr>\n    <tr>\n      <th>...</th>\n      <td>...</td>\n      <td>...</td>\n      <td>...</td>\n    </tr>\n    <tr>\n      <th>5762</th>\n      <td>5763</td>\n      <td>Yuhong Jin Hermansen</td>\n      <td>2</td>\n    </tr>\n    <tr>\n      <th>5763</th>\n      <td>5764</td>\n      <td>Yvonne Berntzen</td>\n      <td>2</td>\n    </tr>\n    <tr>\n      <th>5764</th>\n      <td>5765</td>\n      <td>Yvonne Skramstad</td>\n      <td>2</td>\n    </tr>\n    <tr>\n      <th>5765</th>\n      <td>5766</td>\n      <td>Zhong Bei</td>\n      <td>2</td>\n    </tr>\n    <tr>\n      <th>5766</th>\n      <td>5767</td>\n      <td>Zuzana Muranska</td>\n      <td>2</td>\n    </tr>\n  </tbody>\n</table>\n<p>5767 rows × 3 columns</p>\n</div>"
     },
     "execution_count": 6,
     "metadata": {},
     "output_type": "execute_result"
    }
   ],
   "source": [
    "import pandas as pd\n",
    "import requests, urllib\n",
    "norwegianBoardofDirURL = 'http://www.boardsandgender.com/data/net1m/net1m_2011-08-01.txt'\n",
    "genderID = 'http://www.boardsandgender.com/data/data_people.txt'\n",
    "# Network summary\n",
    "#Edge Type\n",
    "#Directorship\n",
    "#Node Type\n",
    "#Person, Company\n",
    "#Avg Edges\n",
    "#1,597.38\n",
    "#Avg Nodes\n",
    "#1,577.47\n",
    "#Graph properties\n",
    "#Undirected, Bipartite, Temporal, Metadat\n",
    "# the inter-personal network among directors (one-mode network).\n",
    "\n",
    "genderDF = pd.read_csv(genderID, sep=' ', encoding='iso8859_10')\n",
    "\n",
    "edgeDict = {}\n",
    "edgeList = pd.read_csv(norwegianBoardofDirURL, sep=' ', header=None)\n",
    "for index, row in edgeList.iterrows():\n",
    "    if row[0] in edgeDict:\n",
    "        edgeDict[row[0]].append(row[1])\n",
    "    else:\n",
    "        edgeDict[row[0]] = [row[1]]\n",
    "\n",
    "edgeDict\n",
    "\n",
    "\n",
    "genderDict = dict(zip(genderDF.id, genderDF.gender))\n"
   ],
   "metadata": {
    "collapsed": false,
    "pycharm": {
     "name": "#%%\n"
    }
   }
  },
  {
   "cell_type": "markdown",
   "source": [
    "## Expirement 1\n",
    "2. randomly subset some nodes and get rid of node attributes\n",
    "3. exclude missing values\n",
    "4. get mean of neighbors\n",
    "5. missing value prediction will be mean\n",
    "6. make graph of f vs accuracy"
   ],
   "metadata": {
    "collapsed": false,
    "pycharm": {
     "name": "#%% md\n"
    }
   }
  },
  {
   "cell_type": "code",
   "execution_count": null,
   "outputs": [],
   "source": [
    "# f is a fraction between 0,1\n",
    "def randomSubsetNodes(f, ):\n",
    "    nodes = {}\n",
    "    # pick nodes to not have attributes\n",
    "    return nodes\n",
    "\n",
    "def calcSmoothingH(network):\n",
    "    for node in network:\n",
    "        #\n",
    "    return"
   ],
   "metadata": {
    "collapsed": false,
    "pycharm": {
     "name": "#%%\n"
    }
   }
  }
 ],
 "metadata": {
  "kernelspec": {
   "display_name": "Python 3",
   "language": "python",
   "name": "python3"
  },
  "language_info": {
   "codemirror_mode": {
    "name": "ipython",
    "version": 2
   },
   "file_extension": ".py",
   "mimetype": "text/x-python",
   "name": "python",
   "nbconvert_exporter": "python",
   "pygments_lexer": "ipython2",
   "version": "2.7.6"
  }
 },
 "nbformat": 4,
 "nbformat_minor": 0
}