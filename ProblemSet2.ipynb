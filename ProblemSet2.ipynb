{
 "cells": [
  {
   "cell_type": "code",
   "execution_count": 24,
   "metadata": {
    "collapsed": true
   },
   "outputs": [],
   "source": [
    "import igraph as ig\n",
    "import os, time, random, math\n",
    "import numpy as np\n",
    "import ConfigModel_MCMC as MCMC\n",
    "import networkx as nx\n",
    "\n"
   ]
  },
  {
   "cell_type": "markdown",
   "source": [
    "Medici family social network\n",
    "edges: 40\n",
    "nodes: 16\n",
    "adjacency list input\n",
    "node number, name, node number, number of edges, edge list"
   ],
   "metadata": {
    "collapsed": false,
    "pycharm": {
     "name": "#%% md\n"
    }
   }
  },
  {
   "cell_type": "code",
   "execution_count": null,
   "outputs": [],
   "source": [
    "def getAll():\n",
    "    edgeNums = {}\n",
    "    networks = {}\n",
    "    # get only files that dont have '_attr' in name\n",
    "    # make network for each file\n",
    "    # networks = {schoolName: {adjacency list}....}\n",
    "    for file in os.listdir('facebook100txt/'):\n",
    "        if 'attr' not in file and file.endswith('.txt') and 'facebook' not in file:\n",
    "            sName = file.split('.')[0]\n",
    "            networks[sName] = {}\n",
    "            with open(os.path.join('facebook100txt/', file), 'r') as f:\n",
    "                lines = f.readlines()\n",
    "                edgeNums[sName] = len(lines)\n",
    "                for l in lines:\n",
    "                    edge = l.strip().split('\\t')\n",
    "                    node1 = edge[0]\n",
    "                    node2 = edge[1]\n",
    "                    if node1 in networks[sName]:\n",
    "                        networks[sName][node1].append(node2)\n",
    "                    else:\n",
    "                        networks[sName][node1] = [node2]\n",
    "\n",
    "                    if node2 in networks[sName]:\n",
    "                        networks[sName][node2].append(node1)\n",
    "                    else:\n",
    "                        networks[sName][node2] = [node1]\n",
    "\n",
    "    return networks, edgeNums\n",
    "\n",
    "# takes 170 s for all to run\n",
    "#networks, edgeNums = getAll()"
   ],
   "metadata": {
    "collapsed": false,
    "pycharm": {
     "name": "#%%\n"
    }
   }
  },
  {
   "cell_type": "code",
   "execution_count": null,
   "outputs": [],
   "source": [
    "def getRand25():\n",
    "    num = 0\n",
    "    for file in os.listdir('facebook100txt/'):\n",
    "        if 'attr' not in file and file.endswith('.txt') and 'facebook' not in file:\n",
    "            sName = file.split('.')[0]\n",
    "            with open(os.path.join('facebook100txt/', file), 'r') as f:\n",
    "                lines = f.readlines()\n",
    "                for l in lines:\n",
    "                    edge = l.strip().split('\\t')\n",
    "                    node1 = edge[0]\n",
    "                    node2 = edge[1]\n",
    "    return"
   ],
   "metadata": {
    "collapsed": false,
    "pycharm": {
     "name": "#%%\n"
    }
   }
  },
  {
   "cell_type": "code",
   "execution_count": 30,
   "outputs": [
    {
     "name": "stdout",
     "output_type": "stream",
     "text": [
      "4.813016157508862e-05\n"
     ]
    },
    {
     "name": "stderr",
     "output_type": "stream",
     "text": [
      "\n",
      "KeyboardInterrupt\n",
      "\n"
     ]
    }
   ],
   "source": [
    "graphF = 'facebook100txt/Penn94.txt'\n",
    "#graphF = 'facebook100txt/American75.txt'\n",
    "graphTestIG = ig.Graph.Read_Ncol(graphF, directed=False)\n",
    "graphTestIG.transitivity_undirected()\n",
    "p = ig.mean(graphTestIG.degree())/(graphTestIG.ecount()-1)\n",
    "# p for calculating null model\n",
    "print(p)\n",
    "# calculate mean geodisic path length\n",
    "dists = graphTestIG.distances()\n",
    "# mean degree\n",
    "print(ig.mean(graphTestIG.degree()))\n",
    "graphTestIG.ecount()\n"
   ],
   "metadata": {
    "collapsed": false,
    "pycharm": {
     "name": "#%%\n"
    }
   }
  },
  {
   "cell_type": "code",
   "execution_count": null,
   "outputs": [],
   "source": [
    "# generate null model to look at edge density\n",
    "# 1. initialize empty graph with n nodes\n",
    "# 2. for each pair of nodes get random number between [0,1000]\n",
    "# multiply p by 1000 to get good probability\n",
    "# 3. if random number <= p add edge\n",
    "# calculate centrality"
   ],
   "metadata": {
    "collapsed": false,
    "pycharm": {
     "name": "#%%\n"
    }
   }
  },
  {
   "cell_type": "code",
   "execution_count": 28,
   "outputs": [
    {
     "name": "stdout",
     "output_type": "stream",
     "text": [
      "inf\n",
      "2.76553333307703\n"
     ]
    }
   ],
   "source": [
    "# mean geodeisic path length calculation\n",
    "dists = [i for ilist in dists for i in ilist]\n",
    "filteredDists= [v for v in dists if not math.isnan(v) and not math.isinf(v)]\n",
    "print(np.mean(filteredDists))"
   ],
   "metadata": {
    "collapsed": false,
    "pycharm": {
     "name": "#%%\n"
    }
   }
  },
  {
   "cell_type": "code",
   "execution_count": null,
   "outputs": [],
   "source": [
    "Are randomly grown graphs really random? Duncan S. Callaway et al\n",
    "\n",
    "Research Question:\n",
    "Are randomly grown network models fundamentally different in structure than static random graph models?\n",
    "\n",
    "Approach:\n",
    "Randomly create a graph by adding a new vertex and then randomly selecting two vertices with some probability and adding an edge between them. Then calculate size of giant component. Create a static random graph by having a full set of vertices and then calculating all random edges at once.\n",
    "\n",
    "Done well:\n",
    " Their methods, equations are well defined. They focus on the giant component which makes sense as to why they are evaluating.\n",
    "\n",
    "Room for Improvement:\n",
    "Could calculate other graph statistics to show a more holistic view of the graphs being generated. For instance clustering coefficient and mean geodesic path length since they are trying to show these two types of randomly generated graph models are fundamentally different it could be interesting to see other summary statistics that would further back that claim.\n",
    "\n",
    "Future Directions:\n",
    "They used a fairly simply ER static graph null model, it could be interesting to use a different type of null model and compare to see how it might differ. Especially since these graphs seem to be fairly large in size\n"
   ],
   "metadata": {
    "collapsed": false,
    "pycharm": {
     "name": "#%%\n"
    }
   }
  },
  {
   "cell_type": "code",
   "execution_count": 29,
   "outputs": [
    {
     "name": "stdout",
     "output_type": "stream",
     "text": [
      "86.36024403572083\n"
     ]
    }
   ],
   "source": [
    "graphTestNX = nx.read_edgelist(graphF)\n",
    "mcmc = MCMC.MCMC(graphTestNX)\n",
    "# do 100 times\n",
    "s = time.time()\n",
    "ccs = []\n",
    "for i in range(10):\n",
    "    randG = mcmc.get_graph(sampling_gap=435324*20, return_type='igraph')\n",
    "    cc = randG.transitivity_undirected()\n",
    "    ccs.append(cc)\n",
    "print(time.time()-s)"
   ],
   "metadata": {
    "collapsed": false,
    "pycharm": {
     "name": "#%%\n"
    }
   }
  },
  {
   "cell_type": "code",
   "execution_count": null,
   "outputs": [],
   "source": [],
   "metadata": {
    "collapsed": false,
    "pycharm": {
     "name": "#%%\n"
    }
   }
  }
 ],
 "metadata": {
  "kernelspec": {
   "display_name": "Python 3",
   "language": "python",
   "name": "python3"
  },
  "language_info": {
   "codemirror_mode": {
    "name": "ipython",
    "version": 2
   },
   "file_extension": ".py",
   "mimetype": "text/x-python",
   "name": "python",
   "nbconvert_exporter": "python",
   "pygments_lexer": "ipython2",
   "version": "2.7.6"
  }
 },
 "nbformat": 4,
 "nbformat_minor": 0
}